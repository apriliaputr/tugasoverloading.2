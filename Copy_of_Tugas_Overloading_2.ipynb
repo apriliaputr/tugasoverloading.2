{
  "nbformat": 4,
  "nbformat_minor": 0,
  "metadata": {
    "colab": {
      "provenance": [],
      "include_colab_link": true
    },
    "kernelspec": {
      "name": "python3",
      "display_name": "Python 3"
    },
    "language_info": {
      "name": "python"
    }
  },
  "cells": [
    {
      "cell_type": "markdown",
      "metadata": {
        "id": "view-in-github",
        "colab_type": "text"
      },
      "source": [
        "<a href=\"https://colab.research.google.com/github/apriliaputr/tugasoverloading.2/blob/main/Copy_of_Tugas_Overloading_2.ipynb\" target=\"_parent\"><img src=\"https://colab.research.google.com/assets/colab-badge.svg\" alt=\"Open In Colab\"/></a>"
      ]
    },
    {
      "cell_type": "code",
      "execution_count": 1,
      "metadata": {
        "id": "5zCytCeM1uD4"
      },
      "outputs": [],
      "source": [
        "#class Nama\n",
        "class nama:\n",
        "  def gabung(self, nama_depan, nama_tengah, nama_akhir):\n",
        "    p = nama_depan + nama_tengah + nama_akhir\n",
        "    print(p)\n",
        "\n",
        "#Buat fungsi yang digunakan untuk mengabungkan nama dengan ketentuan nama depan, nama tengah, nama akhir, dan seterusnya dianggap 1 (satu) parameter\n",
        "  def gabung(self, *args):\n",
        "        if (len(args) <= 4):\n",
        "            sum = ''\n",
        "            for num in args:\n",
        "                sum += num\n",
        "            print(sum)\n",
        "        else:\n",
        "            print(\"Maksimum 4 argumen\")"
      ]
    },
    {
      "cell_type": "code",
      "source": [
        "#Buat main program\n",
        "hasil = nama()\n",
        "#Panggil fungsi untuk membuat nama lengkap 4 nama teman kalian\n",
        "hasil.gabung(\"dinda \" , \"putri \" , \"aprilia\")\n",
        "hasil.gabung(\"selvi \" , \"amel\")\n",
        "hasil.gabung(\"sherliya \" , \"bia\")\n",
        "hasil.gabung(\"davina \" , \"eka\")"
      ],
      "metadata": {
        "id": "liQBcJWZ12MN",
        "colab": {
          "base_uri": "https://localhost:8080/"
        },
        "outputId": "55a93711-c63e-4fea-bcec-a8f8d4b6a5ff"
      },
      "execution_count": 4,
      "outputs": [
        {
          "output_type": "stream",
          "name": "stdout",
          "text": [
            "dinda putri aprilia\n",
            "selvi amel\n",
            "sherliya bia\n",
            "davina eka\n"
          ]
        }
      ]
    },
    {
      "cell_type": "code",
      "source": [
        "#Tulisakan kesimpulan dari materi Overloading menurut pemahaman anda!\n",
        " #jadi sebuah kelas dapat memiliki beberapa method dengan nama yang sama tetapi dengan parameter yang berbeda dan dapat dibatasi"
      ],
      "metadata": {
        "id": "xwFmppIG3JGE"
      },
      "execution_count": 5,
      "outputs": []
    }
  ]
}